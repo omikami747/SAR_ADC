{
 "cells": [
  {
   "cell_type": "code",
   "execution_count": 1,
   "metadata": {},
   "outputs": [],
   "source": [
    "import numpy as np\n",
    "import pandas as pd"
   ]
  },
  {
   "cell_type": "code",
   "execution_count": 2,
   "metadata": {},
   "outputs": [
    {
     "name": "stderr",
     "output_type": "stream",
     "text": [
      "/tmp/ipykernel_5645/2346760666.py:1: ParserWarning: Falling back to the 'python' engine because the 'c' engine does not support regex separators (separators > 1 char and different from '\\s+' are interpreted as regex); you can avoid this warning by specifying engine='python'.\n",
      "  data=pd.read_csv(\"Draft_10.txt\",sep='\\t|,')\n"
     ]
    },
    {
     "data": {
      "text/html": [
       "<div>\n",
       "<style scoped>\n",
       "    .dataframe tbody tr th:only-of-type {\n",
       "        vertical-align: middle;\n",
       "    }\n",
       "\n",
       "    .dataframe tbody tr th {\n",
       "        vertical-align: top;\n",
       "    }\n",
       "\n",
       "    .dataframe thead th {\n",
       "        text-align: right;\n",
       "    }\n",
       "</style>\n",
       "<table border=\"1\" class=\"dataframe\">\n",
       "  <thead>\n",
       "    <tr style=\"text-align: right;\">\n",
       "      <th></th>\n",
       "      <th>Freq</th>\n",
       "      <th>V(n013)</th>\n",
       "      <th>V(n017)</th>\n",
       "      <th>a</th>\n",
       "      <th>b</th>\n",
       "    </tr>\n",
       "  </thead>\n",
       "  <tbody>\n",
       "    <tr>\n",
       "      <th>0</th>\n",
       "      <td>1000.0</td>\n",
       "      <td>-0.000694</td>\n",
       "      <td>-0.000023</td>\n",
       "      <td>-1.355229e-09</td>\n",
       "      <td>-1.643136e-09</td>\n",
       "    </tr>\n",
       "    <tr>\n",
       "      <th>1</th>\n",
       "      <td>2000.0</td>\n",
       "      <td>0.000027</td>\n",
       "      <td>0.000076</td>\n",
       "      <td>3.669819e-10</td>\n",
       "      <td>1.788380e-09</td>\n",
       "    </tr>\n",
       "    <tr>\n",
       "      <th>2</th>\n",
       "      <td>3000.0</td>\n",
       "      <td>-0.000013</td>\n",
       "      <td>-0.000010</td>\n",
       "      <td>-1.900537e-10</td>\n",
       "      <td>5.439025e-11</td>\n",
       "    </tr>\n",
       "    <tr>\n",
       "      <th>3</th>\n",
       "      <td>4000.0</td>\n",
       "      <td>-0.000037</td>\n",
       "      <td>-0.000080</td>\n",
       "      <td>8.581646e-10</td>\n",
       "      <td>-1.917570e-09</td>\n",
       "    </tr>\n",
       "    <tr>\n",
       "      <th>4</th>\n",
       "      <td>5000.0</td>\n",
       "      <td>-0.000023</td>\n",
       "      <td>0.000048</td>\n",
       "      <td>-1.331337e-09</td>\n",
       "      <td>1.338542e-09</td>\n",
       "    </tr>\n",
       "  </tbody>\n",
       "</table>\n",
       "</div>"
      ],
      "text/plain": [
       "     Freq   V(n013)   V(n017)             a             b\n",
       "0  1000.0 -0.000694 -0.000023 -1.355229e-09 -1.643136e-09\n",
       "1  2000.0  0.000027  0.000076  3.669819e-10  1.788380e-09\n",
       "2  3000.0 -0.000013 -0.000010 -1.900537e-10  5.439025e-11\n",
       "3  4000.0 -0.000037 -0.000080  8.581646e-10 -1.917570e-09\n",
       "4  5000.0 -0.000023  0.000048 -1.331337e-09  1.338542e-09"
      ]
     },
     "execution_count": 2,
     "metadata": {},
     "output_type": "execute_result"
    }
   ],
   "source": [
    "data=pd.read_csv(\"Draft_10.txt\",sep='\\t|,')\n",
    "data.head()\n"
   ]
  },
  {
   "cell_type": "code",
   "execution_count": 3,
   "metadata": {},
   "outputs": [],
   "source": [
    "data_arr=data.values"
   ]
  },
  {
   "cell_type": "code",
   "execution_count": 4,
   "metadata": {},
   "outputs": [
    {
     "data": {
      "text/plain": [
       "numpy.ndarray"
      ]
     },
     "execution_count": 4,
     "metadata": {},
     "output_type": "execute_result"
    }
   ],
   "source": [
    "type(data_arr)"
   ]
  },
  {
   "cell_type": "code",
   "execution_count": 5,
   "metadata": {},
   "outputs": [
    {
     "data": {
      "text/plain": [
       "array([[ 1.00000000e+03, -6.93948078e-04, -2.28980759e-05,\n",
       "        -1.35522926e-09, -1.64313569e-09],\n",
       "       [ 2.00000000e+03,  2.71020316e-05,  7.62821293e-05,\n",
       "         3.66981868e-10,  1.78837958e-09],\n",
       "       [ 3.00000000e+03, -1.27539552e-05, -1.04538424e-05,\n",
       "        -1.90053705e-10,  5.43902456e-11],\n",
       "       [ 4.00000000e+03, -3.68407642e-05, -7.97199480e-05,\n",
       "         8.58164620e-10, -1.91756970e-09],\n",
       "       [ 5.00000000e+03, -2.25464929e-05,  4.84337173e-05,\n",
       "        -1.33133674e-09,  1.33854249e-09],\n",
       "       [ 6.00000000e+03,  1.39241662e-04, -3.17106106e-05,\n",
       "         1.22968490e-09,  1.02873887e-10],\n",
       "       [ 7.00000000e+03, -1.38820895e-04,  1.10745854e-04,\n",
       "        -3.46944962e-10, -2.07175983e-10],\n",
       "       [ 8.00000000e+03,  5.51875051e-05, -1.61274545e-04,\n",
       "         1.78165413e-09, -4.66635420e-10],\n",
       "       [ 9.00000000e+03,  3.79185031e-02,  3.51266328e-01,\n",
       "        -5.34899505e-09,  3.53553337e-01],\n",
       "       [ 1.00000000e+04, -7.57988159e-02, -7.02354460e-01,\n",
       "         1.84965090e-09, -7.07106673e-01]])"
      ]
     },
     "execution_count": 5,
     "metadata": {},
     "output_type": "execute_result"
    }
   ],
   "source": [
    "data_arr[0:10,:]"
   ]
  },
  {
   "cell_type": "code",
   "execution_count": 16,
   "metadata": {},
   "outputs": [],
   "source": [
    "# sig= data_\n",
    "# noise=data.iloc[:,[1,2]]\n",
    "# sig_only= data.iloc[5:15,[1,2]]"
   ]
  },
  {
   "cell_type": "code",
   "execution_count": 19,
   "metadata": {},
   "outputs": [
    {
     "name": "stdout",
     "output_type": "stream",
     "text": [
      "0.7485733647449239\n"
     ]
    }
   ],
   "source": [
    "sig_re = np.sum(np.square(data_arr[5:15,1]))\n",
    "sig_img = np.sum(np.square(data_arr[5:15,2]))\n",
    "sig_power=sig_re + sig_img\n",
    "print(sig_power)"
   ]
  },
  {
   "cell_type": "code",
   "execution_count": 20,
   "metadata": {},
   "outputs": [
    {
     "name": "stdout",
     "output_type": "stream",
     "text": [
      "0.0003223525141660133\n"
     ]
    }
   ],
   "source": [
    "noise_re = np.sum(np.square(data_arr[:,1]))\n",
    "noise_img = np.sum(np.square(data_arr[:,2]))\n",
    "noise_power=noise_re + noise_img\n",
    "print(noise_power-sig_power)"
   ]
  },
  {
   "cell_type": "code",
   "execution_count": 17,
   "metadata": {},
   "outputs": [],
   "source": [
    "snr_10 =10*np.log10(sig_power/(noise_power-sig_power))"
   ]
  },
  {
   "cell_type": "code",
   "execution_count": 18,
   "metadata": {},
   "outputs": [
    {
     "data": {
      "text/plain": [
       "33.65965037197987"
      ]
     },
     "execution_count": 18,
     "metadata": {},
     "output_type": "execute_result"
    }
   ],
   "source": [
    "snr_10"
   ]
  },
  {
   "cell_type": "code",
   "execution_count": 32,
   "metadata": {},
   "outputs": [
    {
     "data": {
      "text/plain": [
       "27.721052918235344"
      ]
     },
     "execution_count": 32,
     "metadata": {},
     "output_type": "execute_result"
    }
   ],
   "source": [
    "snr_20"
   ]
  },
  {
   "cell_type": "code",
   "execution_count": 41,
   "metadata": {},
   "outputs": [
    {
     "data": {
      "text/plain": [
       "21.693371330447167"
      ]
     },
     "execution_count": 41,
     "metadata": {},
     "output_type": "execute_result"
    }
   ],
   "source": [
    "snr_40"
   ]
  },
  {
   "cell_type": "code",
   "execution_count": 49,
   "metadata": {},
   "outputs": [
    {
     "data": {
      "text/plain": [
       "15.594913647817277"
      ]
     },
     "execution_count": 49,
     "metadata": {},
     "output_type": "execute_result"
    }
   ],
   "source": [
    "snr_80"
   ]
  },
  {
   "cell_type": "code",
   "execution_count": 56,
   "metadata": {},
   "outputs": [
    {
     "data": {
      "text/plain": [
       "9.327859159351389"
      ]
     },
     "execution_count": 56,
     "metadata": {},
     "output_type": "execute_result"
    }
   ],
   "source": [
    "snr_160"
   ]
  },
  {
   "cell_type": "code",
   "execution_count": 64,
   "metadata": {},
   "outputs": [
    {
     "data": {
      "text/plain": [
       "2.052316143524671"
      ]
     },
     "execution_count": 64,
     "metadata": {},
     "output_type": "execute_result"
    }
   ],
   "source": [
    "snr_320"
   ]
  },
  {
   "cell_type": "code",
   "execution_count": 71,
   "metadata": {},
   "outputs": [],
   "source": [
    "arr=np.array([33.65903308456982,27.721052918235344,21.693371330447167,15.594913647817277,9.327859159351389,2.052316143524671])"
   ]
  },
  {
   "cell_type": "code",
   "execution_count": 67,
   "metadata": {},
   "outputs": [],
   "source": [
    "x_arr=np.array([10,20,40,80,160,320])"
   ]
  },
  {
   "cell_type": "code",
   "execution_count": 79,
   "metadata": {},
   "outputs": [
    {
     "data": {
      "text/plain": [
       "(5000, 1000000)"
      ]
     },
     "execution_count": 79,
     "metadata": {},
     "output_type": "execute_result"
    },
    {
     "data": {
      "image/png": "[encoded data removed]",
      "text/plain": [
       "<Figure size 640x480 with 1 Axes>"
      ]
     },
     "metadata": {},
     "output_type": "display_data"
    }
   ],
   "source": [
    "import matplotlib.pyplot as plt \n",
    "plt.plot(x_arr*1000,arr,marker='o')\n",
    "plt.xscale(\"log\")\n",
    "plt.ylabel(\"SNDR_in_dB\")\n",
    "plt.xlabel(\"frequency_in_log\")\n",
    "plt.xlim(5000,1000000)"
   ]
  },
  {
   "cell_type": "code",
   "execution_count": 81,
   "metadata": {},
   "outputs": [
    {
     "data": {
      "text/plain": [
       "Text(0.5, 0, 'frequency_in_log')"
      ]
     },
     "execution_count": 81,
     "metadata": {},
     "output_type": "execute_result"
    },
    {
     "data": {
      "image/png": "[encoded data removed]",
      "text/plain": [
       "<Figure size 640x480 with 1 Axes>"
      ]
     },
     "metadata": {},
     "output_type": "display_data"
    }
   ],
   "source": [
    "plt.plot(x_arr*1000,arr,marker='o')\n",
    "plt.ylabel(\"SNDR_in_dB\")\n",
    "plt.xlabel(\"frequency_in_log\")\n",
    "\n",
    " "
   ]
  },
  {
   "cell_type": "code",
   "execution_count": null,
   "metadata": {},
   "outputs": [],
   "source": []
  }
 ],
 "metadata": {
  "kernelspec": {
   "display_name": "base",
   "language": "python",
   "name": "python3"
  },
  "language_info": {
   "codemirror_mode": {
    "name": "ipython",
    "version": 3
   },
   "file_extension": ".py",
   "mimetype": "text/x-python",
   "name": "python",
   "nbconvert_exporter": "python",
   "pygments_lexer": "ipython3",
   "version": "3.10.12"
  }
 },
 "nbformat": 4,
 "nbformat_minor": 2
}
